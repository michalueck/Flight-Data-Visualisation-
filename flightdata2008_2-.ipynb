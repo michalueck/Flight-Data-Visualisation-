{
 "cells": [
  {
   "cell_type": "markdown",
   "metadata": {},
   "source": [
    "### Explanatory Data Analysis on 2018 US flight data"
   ]
  },
  {
   "cell_type": "code",
   "execution_count": 1,
   "metadata": {
    "collapsed": true
   },
   "outputs": [],
   "source": [
    "from IPython.display import HTML"
   ]
  },
  {
   "cell_type": "code",
   "execution_count": 2,
   "metadata": {
    "collapsed": false
   },
   "outputs": [
    {
     "data": {
      "text/html": [
       "<script>\n",
       "code_show=true; \n",
       "function code_toggle() {\n",
       " if (code_show){\n",
       " $('div.input').hide();\n",
       " } else {\n",
       " $('div.input').show();\n",
       " }\n",
       " code_show = !code_show\n",
       "} \n",
       "$( document ).ready(code_toggle);\n",
       "</script>\n",
       "The raw code for this IPython notebook is by default hidden for easier reading.\n",
       "To toggle on/off the raw code, click <a href=\"javascript:code_toggle()\">here</a>."
      ],
      "text/plain": [
       "<IPython.core.display.HTML object>"
      ]
     },
     "execution_count": 2,
     "metadata": {},
     "output_type": "execute_result"
    }
   ],
   "source": [
    "HTML('''<script>\n",
    "code_show=true; \n",
    "function code_toggle() {\n",
    " if (code_show){\n",
    " $('div.input').hide();\n",
    " } else {\n",
    " $('div.input').show();\n",
    " }\n",
    " code_show = !code_show\n",
    "} \n",
    "$( document ).ready(code_toggle);\n",
    "</script>\n",
    "The raw code for this IPython notebook is by default hidden for easier reading.\n",
    "To toggle on/off the raw code, click <a href=\"javascript:code_toggle()\">here</a>.''')"
   ]
  },
  {
   "cell_type": "code",
   "execution_count": 3,
   "metadata": {
    "collapsed": true
   },
   "outputs": [],
   "source": [
    "import pandas as pd \n",
    "import numpy as np\n",
    "import matplotlib.pyplot as plt\n",
    "import seaborn as sns"
   ]
  },
  {
   "cell_type": "code",
   "execution_count": 4,
   "metadata": {
    "collapsed": true
   },
   "outputs": [],
   "source": [
    "#import the data from csv\n",
    "df=pd.read_csv('fd.csv')\n"
   ]
  },
  {
   "cell_type": "code",
   "execution_count": 5,
   "metadata": {
    "collapsed": false
   },
   "outputs": [
    {
     "name": "stdout",
     "output_type": "stream",
     "text": [
      "(2319612, 19)\n"
     ]
    }
   ],
   "source": [
    "#first look on rows and columns \n",
    "print ((df.shape))"
   ]
  },
  {
   "cell_type": "markdown",
   "metadata": {},
   "source": [
    "The dataset contains2319612 rows and 19 columns."
   ]
  },
  {
   "cell_type": "code",
   "execution_count": 6,
   "metadata": {
    "collapsed": false
   },
   "outputs": [
    {
     "name": "stdout",
     "output_type": "stream",
     "text": [
      "There is a total of 2319612 flights in the dataset.\n"
     ]
    }
   ],
   "source": [
    "print (\"There is a total of {} flights in the dataset.\" .format(len(df.index)))"
   ]
  },
  {
   "cell_type": "code",
   "execution_count": 7,
   "metadata": {
    "collapsed": false,
    "scrolled": true
   },
   "outputs": [
    {
     "name": "stdout",
     "output_type": "stream",
     "text": [
      "<class 'pandas.core.frame.DataFrame'>\n",
      "RangeIndex: 2319612 entries, 0 to 2319611\n",
      "Data columns (total 19 columns):\n",
      "Year                int64\n",
      "Month               int64\n",
      "DayofMonth          int64\n",
      "DayOfWeek           int64\n",
      "UniqueCarrier       object\n",
      "Origin              object\n",
      "Dest                object\n",
      "Distance            int64\n",
      "Cancelled           int64\n",
      "CancellationCode    object\n",
      "Code                object\n",
      "Description         object\n",
      "iata                object\n",
      "airport             object\n",
      "city                object\n",
      "state               object\n",
      "country             object\n",
      "lat                 float64\n",
      "long                float64\n",
      "dtypes: float64(2), int64(6), object(11)\n",
      "memory usage: 238.9+ MB\n"
     ]
    }
   ],
   "source": [
    "df.info()"
   ]
  },
  {
   "cell_type": "markdown",
   "metadata": {},
   "source": [
    "The data is composed of integers, objects and floats. The memory usage is 336.2+ MB. \n"
   ]
  },
  {
   "cell_type": "code",
   "execution_count": 8,
   "metadata": {
    "collapsed": false
   },
   "outputs": [
    {
     "data": {
      "text/html": [
       "<div>\n",
       "<table border=\"1\" class=\"dataframe\">\n",
       "  <thead>\n",
       "    <tr style=\"text-align: right;\">\n",
       "      <th></th>\n",
       "      <th>Year</th>\n",
       "      <th>Month</th>\n",
       "      <th>DayofMonth</th>\n",
       "      <th>DayOfWeek</th>\n",
       "      <th>UniqueCarrier</th>\n",
       "      <th>Origin</th>\n",
       "      <th>Dest</th>\n",
       "      <th>Distance</th>\n",
       "      <th>Cancelled</th>\n",
       "      <th>CancellationCode</th>\n",
       "      <th>Code</th>\n",
       "      <th>Description</th>\n",
       "      <th>iata</th>\n",
       "      <th>airport</th>\n",
       "      <th>city</th>\n",
       "      <th>state</th>\n",
       "      <th>country</th>\n",
       "      <th>lat</th>\n",
       "      <th>long</th>\n",
       "    </tr>\n",
       "  </thead>\n",
       "  <tbody>\n",
       "    <tr>\n",
       "      <th>0</th>\n",
       "      <td>2008</td>\n",
       "      <td>1</td>\n",
       "      <td>1</td>\n",
       "      <td>2</td>\n",
       "      <td>XE</td>\n",
       "      <td>EWR</td>\n",
       "      <td>MYR</td>\n",
       "      <td>550</td>\n",
       "      <td>0</td>\n",
       "      <td>NaN</td>\n",
       "      <td>XE</td>\n",
       "      <td>Expressjet Airlines Inc.</td>\n",
       "      <td>EWR</td>\n",
       "      <td>Newark Intl</td>\n",
       "      <td>Newark</td>\n",
       "      <td>NJ</td>\n",
       "      <td>USA</td>\n",
       "      <td>40.692497</td>\n",
       "      <td>-74.168661</td>\n",
       "    </tr>\n",
       "    <tr>\n",
       "      <th>1</th>\n",
       "      <td>2008</td>\n",
       "      <td>1</td>\n",
       "      <td>1</td>\n",
       "      <td>2</td>\n",
       "      <td>XE</td>\n",
       "      <td>AUS</td>\n",
       "      <td>ONT</td>\n",
       "      <td>1197</td>\n",
       "      <td>0</td>\n",
       "      <td>NaN</td>\n",
       "      <td>XE</td>\n",
       "      <td>Expressjet Airlines Inc.</td>\n",
       "      <td>AUS</td>\n",
       "      <td>Austin-Bergstrom International</td>\n",
       "      <td>Austin</td>\n",
       "      <td>TX</td>\n",
       "      <td>USA</td>\n",
       "      <td>30.194533</td>\n",
       "      <td>-97.669872</td>\n",
       "    </tr>\n",
       "    <tr>\n",
       "      <th>2</th>\n",
       "      <td>2008</td>\n",
       "      <td>1</td>\n",
       "      <td>1</td>\n",
       "      <td>2</td>\n",
       "      <td>XE</td>\n",
       "      <td>ONT</td>\n",
       "      <td>MCI</td>\n",
       "      <td>1318</td>\n",
       "      <td>0</td>\n",
       "      <td>NaN</td>\n",
       "      <td>XE</td>\n",
       "      <td>Expressjet Airlines Inc.</td>\n",
       "      <td>ONT</td>\n",
       "      <td>Ontario International</td>\n",
       "      <td>Ontario</td>\n",
       "      <td>CA</td>\n",
       "      <td>USA</td>\n",
       "      <td>34.056000</td>\n",
       "      <td>-117.601194</td>\n",
       "    </tr>\n",
       "    <tr>\n",
       "      <th>3</th>\n",
       "      <td>2008</td>\n",
       "      <td>1</td>\n",
       "      <td>1</td>\n",
       "      <td>2</td>\n",
       "      <td>XE</td>\n",
       "      <td>FAT</td>\n",
       "      <td>ONT</td>\n",
       "      <td>222</td>\n",
       "      <td>0</td>\n",
       "      <td>NaN</td>\n",
       "      <td>XE</td>\n",
       "      <td>Expressjet Airlines Inc.</td>\n",
       "      <td>FAT</td>\n",
       "      <td>Fresno Yosemite International</td>\n",
       "      <td>Fresno</td>\n",
       "      <td>CA</td>\n",
       "      <td>USA</td>\n",
       "      <td>36.776194</td>\n",
       "      <td>-119.718139</td>\n",
       "    </tr>\n",
       "    <tr>\n",
       "      <th>4</th>\n",
       "      <td>2008</td>\n",
       "      <td>1</td>\n",
       "      <td>1</td>\n",
       "      <td>2</td>\n",
       "      <td>XE</td>\n",
       "      <td>ONT</td>\n",
       "      <td>ELP</td>\n",
       "      <td>670</td>\n",
       "      <td>0</td>\n",
       "      <td>NaN</td>\n",
       "      <td>XE</td>\n",
       "      <td>Expressjet Airlines Inc.</td>\n",
       "      <td>ONT</td>\n",
       "      <td>Ontario International</td>\n",
       "      <td>Ontario</td>\n",
       "      <td>CA</td>\n",
       "      <td>USA</td>\n",
       "      <td>34.056000</td>\n",
       "      <td>-117.601194</td>\n",
       "    </tr>\n",
       "  </tbody>\n",
       "</table>\n",
       "</div>"
      ],
      "text/plain": [
       "   Year  Month  DayofMonth  DayOfWeek UniqueCarrier Origin Dest  Distance  \\\n",
       "0  2008      1           1          2            XE    EWR  MYR       550   \n",
       "1  2008      1           1          2            XE    AUS  ONT      1197   \n",
       "2  2008      1           1          2            XE    ONT  MCI      1318   \n",
       "3  2008      1           1          2            XE    FAT  ONT       222   \n",
       "4  2008      1           1          2            XE    ONT  ELP       670   \n",
       "\n",
       "   Cancelled CancellationCode Code               Description iata  \\\n",
       "0          0              NaN   XE  Expressjet Airlines Inc.  EWR   \n",
       "1          0              NaN   XE  Expressjet Airlines Inc.  AUS   \n",
       "2          0              NaN   XE  Expressjet Airlines Inc.  ONT   \n",
       "3          0              NaN   XE  Expressjet Airlines Inc.  FAT   \n",
       "4          0              NaN   XE  Expressjet Airlines Inc.  ONT   \n",
       "\n",
       "                          airport     city state country        lat  \\\n",
       "0                     Newark Intl   Newark    NJ     USA  40.692497   \n",
       "1  Austin-Bergstrom International   Austin    TX     USA  30.194533   \n",
       "2           Ontario International  Ontario    CA     USA  34.056000   \n",
       "3   Fresno Yosemite International   Fresno    CA     USA  36.776194   \n",
       "4           Ontario International  Ontario    CA     USA  34.056000   \n",
       "\n",
       "         long  \n",
       "0  -74.168661  \n",
       "1  -97.669872  \n",
       "2 -117.601194  \n",
       "3 -119.718139  \n",
       "4 -117.601194  "
      ]
     },
     "execution_count": 8,
     "metadata": {},
     "output_type": "execute_result"
    }
   ],
   "source": [
    "df.head()\n"
   ]
  },
  {
   "cell_type": "code",
   "execution_count": 9,
   "metadata": {
    "collapsed": false
   },
   "outputs": [
    {
     "data": {
      "text/plain": [
       "Year                False\n",
       "Month               False\n",
       "DayofMonth          False\n",
       "DayOfWeek           False\n",
       "UniqueCarrier       False\n",
       "Origin              False\n",
       "Dest                False\n",
       "Distance            False\n",
       "Cancelled           False\n",
       "CancellationCode     True\n",
       "Code                False\n",
       "Description         False\n",
       "iata                False\n",
       "airport             False\n",
       "city                 True\n",
       "state                True\n",
       "country             False\n",
       "lat                 False\n",
       "long                False\n",
       "dtype: bool"
      ]
     },
     "execution_count": 9,
     "metadata": {},
     "output_type": "execute_result"
    }
   ],
   "source": [
    "#is any row null?\n",
    "df.isnull().any()"
   ]
  },
  {
   "cell_type": "markdown",
   "metadata": {},
   "source": [
    "The data contains Null values in the columns Cancellation Code, city and state. This is acceptable for the intended purpose so I will keep them. "
   ]
  },
  {
   "cell_type": "code",
   "execution_count": 10,
   "metadata": {
    "collapsed": false
   },
   "outputs": [
    {
     "data": {
      "text/html": [
       "<div>\n",
       "<table border=\"1\" class=\"dataframe\">\n",
       "  <thead>\n",
       "    <tr style=\"text-align: right;\">\n",
       "      <th></th>\n",
       "      <th>count</th>\n",
       "      <th>mean</th>\n",
       "      <th>std</th>\n",
       "      <th>min</th>\n",
       "      <th>25%</th>\n",
       "      <th>50%</th>\n",
       "      <th>75%</th>\n",
       "      <th>max</th>\n",
       "    </tr>\n",
       "  </thead>\n",
       "  <tbody>\n",
       "    <tr>\n",
       "      <th>Year</th>\n",
       "      <td>2319612.0</td>\n",
       "      <td>2008.000000</td>\n",
       "      <td>0.000000</td>\n",
       "      <td>2008.000000</td>\n",
       "      <td>2008.000000</td>\n",
       "      <td>2008.000000</td>\n",
       "      <td>2008.000000</td>\n",
       "      <td>2008.000000</td>\n",
       "    </tr>\n",
       "    <tr>\n",
       "      <th>Month</th>\n",
       "      <td>2319612.0</td>\n",
       "      <td>6.343666</td>\n",
       "      <td>3.433463</td>\n",
       "      <td>1.000000</td>\n",
       "      <td>3.000000</td>\n",
       "      <td>6.000000</td>\n",
       "      <td>9.000000</td>\n",
       "      <td>12.000000</td>\n",
       "    </tr>\n",
       "    <tr>\n",
       "      <th>DayofMonth</th>\n",
       "      <td>2319612.0</td>\n",
       "      <td>15.727206</td>\n",
       "      <td>8.807478</td>\n",
       "      <td>1.000000</td>\n",
       "      <td>8.000000</td>\n",
       "      <td>16.000000</td>\n",
       "      <td>23.000000</td>\n",
       "      <td>31.000000</td>\n",
       "    </tr>\n",
       "    <tr>\n",
       "      <th>DayOfWeek</th>\n",
       "      <td>2319612.0</td>\n",
       "      <td>3.979993</td>\n",
       "      <td>1.997027</td>\n",
       "      <td>1.000000</td>\n",
       "      <td>2.000000</td>\n",
       "      <td>4.000000</td>\n",
       "      <td>6.000000</td>\n",
       "      <td>7.000000</td>\n",
       "    </tr>\n",
       "    <tr>\n",
       "      <th>Distance</th>\n",
       "      <td>2319612.0</td>\n",
       "      <td>812.030221</td>\n",
       "      <td>622.321614</td>\n",
       "      <td>11.000000</td>\n",
       "      <td>365.000000</td>\n",
       "      <td>640.000000</td>\n",
       "      <td>1034.000000</td>\n",
       "      <td>4962.000000</td>\n",
       "    </tr>\n",
       "    <tr>\n",
       "      <th>Cancelled</th>\n",
       "      <td>2319612.0</td>\n",
       "      <td>0.047514</td>\n",
       "      <td>0.212735</td>\n",
       "      <td>0.000000</td>\n",
       "      <td>0.000000</td>\n",
       "      <td>0.000000</td>\n",
       "      <td>0.000000</td>\n",
       "      <td>1.000000</td>\n",
       "    </tr>\n",
       "    <tr>\n",
       "      <th>lat</th>\n",
       "      <td>2319612.0</td>\n",
       "      <td>37.206219</td>\n",
       "      <td>5.924640</td>\n",
       "      <td>17.701889</td>\n",
       "      <td>33.640444</td>\n",
       "      <td>38.533963</td>\n",
       "      <td>41.066958</td>\n",
       "      <td>71.285448</td>\n",
       "    </tr>\n",
       "    <tr>\n",
       "      <th>long</th>\n",
       "      <td>2319612.0</td>\n",
       "      <td>-93.902916</td>\n",
       "      <td>17.520690</td>\n",
       "      <td>-176.646031</td>\n",
       "      <td>-104.667002</td>\n",
       "      <td>-87.904464</td>\n",
       "      <td>-81.316028</td>\n",
       "      <td>-64.798556</td>\n",
       "    </tr>\n",
       "  </tbody>\n",
       "</table>\n",
       "</div>"
      ],
      "text/plain": [
       "                count         mean         std          min          25%  \\\n",
       "Year        2319612.0  2008.000000    0.000000  2008.000000  2008.000000   \n",
       "Month       2319612.0     6.343666    3.433463     1.000000     3.000000   \n",
       "DayofMonth  2319612.0    15.727206    8.807478     1.000000     8.000000   \n",
       "DayOfWeek   2319612.0     3.979993    1.997027     1.000000     2.000000   \n",
       "Distance    2319612.0   812.030221  622.321614    11.000000   365.000000   \n",
       "Cancelled   2319612.0     0.047514    0.212735     0.000000     0.000000   \n",
       "lat         2319612.0    37.206219    5.924640    17.701889    33.640444   \n",
       "long        2319612.0   -93.902916   17.520690  -176.646031  -104.667002   \n",
       "\n",
       "                    50%          75%          max  \n",
       "Year        2008.000000  2008.000000  2008.000000  \n",
       "Month          6.000000     9.000000    12.000000  \n",
       "DayofMonth    16.000000    23.000000    31.000000  \n",
       "DayOfWeek      4.000000     6.000000     7.000000  \n",
       "Distance     640.000000  1034.000000  4962.000000  \n",
       "Cancelled      0.000000     0.000000     1.000000  \n",
       "lat           38.533963    41.066958    71.285448  \n",
       "long         -87.904464   -81.316028   -64.798556  "
      ]
     },
     "execution_count": 10,
     "metadata": {},
     "output_type": "execute_result"
    }
   ],
   "source": [
    "df.describe().transpose()"
   ]
  },
  {
   "cell_type": "markdown",
   "metadata": {},
   "source": [
    "To summarize the first investigation, the data is very tidy and can easily be used for further analyis. "
   ]
  },
  {
   "cell_type": "code",
   "execution_count": 11,
   "metadata": {
    "collapsed": false
   },
   "outputs": [
    {
     "name": "stdout",
     "output_type": "stream",
     "text": [
      "Year                                        2008\n",
      "Month                                          1\n",
      "DayofMonth                                     1\n",
      "DayOfWeek                                      2\n",
      "UniqueCarrier                                 XE\n",
      "Origin                                       IAH\n",
      "Dest                                         BRO\n",
      "Distance                                     308\n",
      "Cancelled                                      0\n",
      "CancellationCode                             NaN\n",
      "Code                                          XE\n",
      "Description             Expressjet Airlines Inc.\n",
      "iata                                         IAH\n",
      "airport             George Bush Intercontinental\n",
      "city                                     Houston\n",
      "state                                         TX\n",
      "country                                      USA\n",
      "lat                                      29.9805\n",
      "long                                    -95.3397\n",
      "Name: 358, dtype: object\n"
     ]
    }
   ],
   "source": [
    "#accessing the first data entry to see if there is any strange data to be seen \n",
    "print (df.iloc [358])"
   ]
  },
  {
   "cell_type": "markdown",
   "metadata": {},
   "source": [
    "The Cancelation Code contains not NaN values. This needs to be fixed. "
   ]
  },
  {
   "cell_type": "code",
   "execution_count": 12,
   "metadata": {
    "collapsed": true
   },
   "outputs": [],
   "source": [
    "# replace NaN values \n",
    "df.replace(np.nan, 0, inplace=True)"
   ]
  },
  {
   "cell_type": "code",
   "execution_count": 13,
   "metadata": {
    "collapsed": false
   },
   "outputs": [
    {
     "name": "stdout",
     "output_type": "stream",
     "text": [
      "Year                                        2008\n",
      "Month                                          1\n",
      "DayofMonth                                     1\n",
      "DayOfWeek                                      2\n",
      "UniqueCarrier                                 XE\n",
      "Origin                                       IAH\n",
      "Dest                                         BRO\n",
      "Distance                                     308\n",
      "Cancelled                                      0\n",
      "CancellationCode                               0\n",
      "Code                                          XE\n",
      "Description             Expressjet Airlines Inc.\n",
      "iata                                         IAH\n",
      "airport             George Bush Intercontinental\n",
      "city                                     Houston\n",
      "state                                         TX\n",
      "country                                      USA\n",
      "lat                                      29.9805\n",
      "long                                    -95.3397\n",
      "Name: 358, dtype: object\n"
     ]
    }
   ],
   "source": [
    "print (df.iloc [358])"
   ]
  },
  {
   "cell_type": "markdown",
   "metadata": {},
   "source": [
    "Ok, looks good now. After I was using fillna I still got NaN, replace is the better choice in this case. "
   ]
  },
  {
   "cell_type": "markdown",
   "metadata": {},
   "source": [
    "### Investigation on the questions: \n",
    "\n",
    "    What are the airliners with the least cancellations?\n",
    "    Which airports are the busiest ones? \n",
    "    Is there a timly insight on flight frequency over the months? "
   ]
  },
  {
   "cell_type": "code",
   "execution_count": 14,
   "metadata": {
    "collapsed": false
   },
   "outputs": [
    {
     "name": "stdout",
     "output_type": "stream",
     "text": [
      "the proportion of all canceled flight to all flights is:\n",
      "0.047513549679860254\n"
     ]
    }
   ],
   "source": [
    "# What is the proportion of cancelled flights to all flights?\n",
    "print(\"the proportion of all canceled flight to all flights is:\")\n",
    "print(len(df[df.Cancelled != 0]) / float(len(df)))"
   ]
  },
  {
   "cell_type": "markdown",
   "metadata": {},
   "source": [
    "The overall cancellation rate of flights is 0.048 in 2018, nearly 5%."
   ]
  },
  {
   "cell_type": "code",
   "execution_count": 15,
   "metadata": {
    "collapsed": false
   },
   "outputs": [],
   "source": [
    "# Trimming the value for US Airways - parentheses to be killed \n",
    "def remove_parenthetical_description(description):\n",
    "    return description.split(' (')[0]\n",
    "\n",
    "df.Description = df.Description.map(remove_parenthetical_description)\n",
    "\n",
    "#check if the code worked \n",
    "#df[df.Code == 'US']\n"
   ]
  },
  {
   "cell_type": "markdown",
   "metadata": {},
   "source": [
    "I have deleted the information for US Airways in parentheses as the info is not needed for the analyis. And it looks better now. "
   ]
  },
  {
   "cell_type": "code",
   "execution_count": 16,
   "metadata": {
    "collapsed": false
   },
   "outputs": [
    {
     "data": {
      "text/plain": [
       "Description\n",
       "AirTran Airways Corporation     0.021146\n",
       "Alaska Airlines Inc.            0.034509\n",
       "Aloha Airlines Inc.             0.018930\n",
       "American Airlines Inc.          0.077419\n",
       "American Eagle Airlines Inc.    0.098927\n",
       "Atlantic Southeast Airlines     0.044458\n",
       "Comair Inc.                     0.056807\n",
       "Continental Air Lines Inc.      0.029433\n",
       "Delta Air Lines Inc.            0.040082\n",
       "Expressjet Airlines Inc.        0.048069\n",
       "Frontier Airlines Inc.          0.008415\n",
       "Hawaiian Airlines Inc.          0.023446\n",
       "JetBlue Airways                 0.033992\n",
       "Mesa Airlines Inc.              0.071780\n",
       "Northwest Airlines Inc.         0.021091\n",
       "Pinnacle Airlines Inc.          0.047517\n",
       "Skywest Airlines Inc.           0.049999\n",
       "Southwest Airlines Co.          0.027653\n",
       "US Airways Inc.                 0.039248\n",
       "United Air Lines Inc.           0.067956\n",
       "dtype: float64"
      ]
     },
     "execution_count": 16,
     "metadata": {},
     "output_type": "execute_result"
    }
   ],
   "source": [
    "grouped_carrier_g = df.groupby(by=['Description'])\n",
    "proportional_cancellations_g = (grouped_carrier_g['Cancelled'].sum() / grouped_carrier_g.size())\n",
    "proportional_cancellations_g"
   ]
  },
  {
   "cell_type": "code",
   "execution_count": 17,
   "metadata": {
    "collapsed": false
   },
   "outputs": [
    {
     "data": {
      "image/png": "[encoded data removed]",
      "text/plain": [
       "<matplotlib.figure.Figure at 0x1065cab0>"
      ]
     },
     "metadata": {},
     "output_type": "display_data"
    }
   ],
   "source": [
    "# visualization of cancellation rate per Carrier \n",
    "proportional_cancellations_g.plot(kind='bar', stacked=False, figsize=[20,5],title =\"Cancellation per Carrier in 2008\")\n",
    "plt.show()"
   ]
  },
  {
   "cell_type": "code",
   "execution_count": 18,
   "metadata": {
    "collapsed": false
   },
   "outputs": [
    {
     "data": {
      "text/html": [
       "<div>\n",
       "<table border=\"1\" class=\"dataframe\">\n",
       "  <thead>\n",
       "    <tr style=\"text-align: right;\">\n",
       "      <th></th>\n",
       "      <th>A</th>\n",
       "      <th>B</th>\n",
       "      <th>C</th>\n",
       "      <th>D</th>\n",
       "    </tr>\n",
       "  </thead>\n",
       "  <tbody>\n",
       "    <tr>\n",
       "      <th>1</th>\n",
       "      <td>6106</td>\n",
       "      <td>5080</td>\n",
       "      <td>3181</td>\n",
       "      <td>0</td>\n",
       "    </tr>\n",
       "    <tr>\n",
       "      <th>2</th>\n",
       "      <td>5693</td>\n",
       "      <td>6773</td>\n",
       "      <td>3587</td>\n",
       "      <td>2</td>\n",
       "    </tr>\n",
       "    <tr>\n",
       "      <th>3</th>\n",
       "      <td>5395</td>\n",
       "      <td>4719</td>\n",
       "      <td>2184</td>\n",
       "      <td>4</td>\n",
       "    </tr>\n",
       "    <tr>\n",
       "      <th>4</th>\n",
       "      <td>4890</td>\n",
       "      <td>1277</td>\n",
       "      <td>1364</td>\n",
       "      <td>0</td>\n",
       "    </tr>\n",
       "    <tr>\n",
       "      <th>5</th>\n",
       "      <td>2980</td>\n",
       "      <td>1158</td>\n",
       "      <td>1348</td>\n",
       "      <td>3</td>\n",
       "    </tr>\n",
       "    <tr>\n",
       "      <th>6</th>\n",
       "      <td>4023</td>\n",
       "      <td>2974</td>\n",
       "      <td>2813</td>\n",
       "      <td>0</td>\n",
       "    </tr>\n",
       "    <tr>\n",
       "      <th>7</th>\n",
       "      <td>4763</td>\n",
       "      <td>2220</td>\n",
       "      <td>2285</td>\n",
       "      <td>0</td>\n",
       "    </tr>\n",
       "    <tr>\n",
       "      <th>8</th>\n",
       "      <td>3653</td>\n",
       "      <td>2703</td>\n",
       "      <td>1911</td>\n",
       "      <td>0</td>\n",
       "    </tr>\n",
       "    <tr>\n",
       "      <th>9</th>\n",
       "      <td>2110</td>\n",
       "      <td>2966</td>\n",
       "      <td>990</td>\n",
       "      <td>1</td>\n",
       "    </tr>\n",
       "    <tr>\n",
       "      <th>10</th>\n",
       "      <td>1947</td>\n",
       "      <td>522</td>\n",
       "      <td>468</td>\n",
       "      <td>0</td>\n",
       "    </tr>\n",
       "    <tr>\n",
       "      <th>11</th>\n",
       "      <td>2295</td>\n",
       "      <td>834</td>\n",
       "      <td>891</td>\n",
       "      <td>2</td>\n",
       "    </tr>\n",
       "    <tr>\n",
       "      <th>12</th>\n",
       "      <td>4441</td>\n",
       "      <td>7178</td>\n",
       "      <td>2479</td>\n",
       "      <td>0</td>\n",
       "    </tr>\n",
       "  </tbody>\n",
       "</table>\n",
       "</div>"
      ],
      "text/plain": [
       "       A     B     C  D\n",
       "1   6106  5080  3181  0\n",
       "2   5693  6773  3587  2\n",
       "3   5395  4719  2184  4\n",
       "4   4890  1277  1364  0\n",
       "5   2980  1158  1348  3\n",
       "6   4023  2974  2813  0\n",
       "7   4763  2220  2285  0\n",
       "8   3653  2703  1911  0\n",
       "9   2110  2966   990  1\n",
       "10  1947   522   468  0\n",
       "11  2295   834   891  2\n",
       "12  4441  7178  2479  0"
      ]
     },
     "execution_count": 18,
     "metadata": {},
     "output_type": "execute_result"
    }
   ],
   "source": [
    "def getCodes(dataFrame):\n",
    "    result = {}\n",
    "    for month in range(1,13):\n",
    "        preDF = dataFrame[dataFrame['Month'] == month]\n",
    "        result[month] = {}\n",
    "        result[month]['A'] = len(preDF[preDF['CancellationCode'] == 'A'])\n",
    "        result[month]['B'] = len(preDF[preDF['CancellationCode'] == 'B'])\n",
    "        result[month]['C'] = len(preDF[preDF['CancellationCode'] == 'C'])\n",
    "        result[month]['D'] = len(preDF[preDF['CancellationCode'] == 'D'])\n",
    "    return pd.DataFrame().from_dict(result, orient= 'index')\n",
    "\n",
    "codeDF = getCodes(df)\n",
    "codeDF"
   ]
  },
  {
   "cell_type": "code",
   "execution_count": 19,
   "metadata": {
    "collapsed": false,
    "scrolled": true
   },
   "outputs": [
    {
     "data": {
      "image/png": "[encoded data removed]",
      "text/plain": [
       "<matplotlib.figure.Figure at 0x1065c150>"
      ]
     },
     "metadata": {},
     "output_type": "display_data"
    }
   ],
   "source": [
    "# Cancellations by month.\n",
    "grouped_carrier = df.groupby(by=[ 'Month'])\n",
    "sum_cancellations = grouped_carrier['Cancelled'].sum() \n",
    "sum_cancellations.plot(subplots=True, figsize=(20,5))\n",
    "plt.show()"
   ]
  },
  {
   "cell_type": "markdown",
   "metadata": {},
   "source": [
    "From this graph, we see a trend to increasing cancellation rate during the summer and winter holiday season. It would be nice to investigate on the reasons behind the cancellations. \n",
    "\n",
    "There is a clear peak in the cancellation rate in the winter month, which is reasonable. Bad weather with Ice and Snow can lead to a high cancellation rate. Whereas the light peak in June needs to be further investigated. \n",
    "\n",
    "The assumption of bad weather having influence on the cancellation rate in winter looks as if it is highly correlated to the winter months.  Whereas the peak in summer is more due carrier reasons whatever that means, weather and NAS are involved as well wehreas security reasons influence is nearly Null. \n"
   ]
  },
  {
   "cell_type": "markdown",
   "metadata": {},
   "source": [
    "A = carrier, B= weather, C=NAS, D = security\n",
    "\n"
   ]
  },
  {
   "cell_type": "code",
   "execution_count": 20,
   "metadata": {
    "collapsed": false,
    "scrolled": true
   },
   "outputs": [
    {
     "data": {
      "image/png": "[encoded data removed]",
      "text/plain": [
       "<matplotlib.figure.Figure at 0x1173d850>"
      ]
     },
     "metadata": {},
     "output_type": "display_data"
    }
   ],
   "source": [
    "codeDF.plot(subplots=False, figsize=(20,5))\n",
    "plt.ylabel('distribution of cancellation reason ')\n",
    "plt.xlabel('Month')\n",
    "plt.title('Cancellation Reason Distribution per Month')\n",
    "plt.show()"
   ]
  },
  {
   "cell_type": "markdown",
   "metadata": {},
   "source": [
    "Additional information provied for the breakdown on Airline Cancellation Codes in the following code snippet. A dictionary per Airline is delivered containing the Cancellation reasons. "
   ]
  },
  {
   "cell_type": "code",
   "execution_count": 21,
   "metadata": {
    "collapsed": false
   },
   "outputs": [],
   "source": [
    "# Cancellations by carrier and month.\n",
    "def getCodesWithAirline(dataFrame):\n",
    "    result = {}\n",
    "    for month in range(1,13):\n",
    "        preDF1 = dataFrame[dataFrame['Month'] == month]\n",
    "        result[month] = {}\n",
    "        for airline in set(preDF1['Description']):\n",
    "            result[month][airline] = {}\n",
    "            preDF2 = preDF1[preDF1['Description'] == airline]\n",
    "            \n",
    "            result[month][airline]['A'] = len(preDF2[preDF2['CancellationCode'] == 'A'])\n",
    "            result[month][airline]['B'] = len(preDF2[preDF2['CancellationCode'] == 'B'])\n",
    "            result[month][airline]['C'] = len(preDF2[preDF2['CancellationCode'] == 'C'])\n",
    "            result[month][airline]['D'] = len(preDF2[preDF2['CancellationCode'] == 'D'])\n",
    "    return pd.DataFrame().from_dict(result, orient='index')\n",
    "\n",
    "airline_code= getCodesWithAirline(df)\n",
    "#airline_code\n"
   ]
  },
  {
   "cell_type": "code",
   "execution_count": 60,
   "metadata": {
    "collapsed": false
   },
   "outputs": [],
   "source": [
    "# no of flights \n",
    "monthly_flights = df.groupby(by=['Month'])\n",
    "g =monthly_flights.size()\n",
    "#g"
   ]
  },
  {
   "cell_type": "code",
   "execution_count": 61,
   "metadata": {
    "collapsed": false
   },
   "outputs": [],
   "source": [
    "# monthly cancellation rate \n",
    "grouped_m = df.groupby(by=['Month'])\n",
    "prop_m = (grouped_m['Cancelled'].sum() / grouped_m.size())\n",
    "#prop_m"
   ]
  },
  {
   "cell_type": "code",
   "execution_count": 69,
   "metadata": {
    "collapsed": false
   },
   "outputs": [
    {
     "data": {
      "text/html": [
       "<div>\n",
       "<table border=\"1\" class=\"dataframe\">\n",
       "  <thead>\n",
       "    <tr style=\"text-align: right;\">\n",
       "      <th></th>\n",
       "      <th>flights</th>\n",
       "      <th>can_rate</th>\n",
       "    </tr>\n",
       "    <tr>\n",
       "      <th>Month</th>\n",
       "      <th></th>\n",
       "      <th></th>\n",
       "    </tr>\n",
       "  </thead>\n",
       "  <tbody>\n",
       "    <tr>\n",
       "      <th>1</th>\n",
       "      <td>207605</td>\n",
       "      <td>0.069204</td>\n",
       "    </tr>\n",
       "    <tr>\n",
       "      <th>2</th>\n",
       "      <td>195645</td>\n",
       "      <td>0.082062</td>\n",
       "    </tr>\n",
       "    <tr>\n",
       "      <th>3</th>\n",
       "      <td>207057</td>\n",
       "      <td>0.059414</td>\n",
       "    </tr>\n",
       "    <tr>\n",
       "      <th>4</th>\n",
       "      <td>193738</td>\n",
       "      <td>0.038872</td>\n",
       "    </tr>\n",
       "    <tr>\n",
       "      <th>5</th>\n",
       "      <td>197939</td>\n",
       "      <td>0.027731</td>\n",
       "    </tr>\n",
       "    <tr>\n",
       "      <th>6</th>\n",
       "      <td>199699</td>\n",
       "      <td>0.049124</td>\n",
       "    </tr>\n",
       "    <tr>\n",
       "      <th>7</th>\n",
       "      <td>205536</td>\n",
       "      <td>0.045092</td>\n",
       "    </tr>\n",
       "    <tr>\n",
       "      <th>8</th>\n",
       "      <td>201651</td>\n",
       "      <td>0.040997</td>\n",
       "    </tr>\n",
       "    <tr>\n",
       "      <th>9</th>\n",
       "      <td>174747</td>\n",
       "      <td>0.034719</td>\n",
       "    </tr>\n",
       "    <tr>\n",
       "      <th>10</th>\n",
       "      <td>176549</td>\n",
       "      <td>0.016636</td>\n",
       "    </tr>\n",
       "    <tr>\n",
       "      <th>11</th>\n",
       "      <td>171588</td>\n",
       "      <td>0.023440</td>\n",
       "    </tr>\n",
       "    <tr>\n",
       "      <th>12</th>\n",
       "      <td>187858</td>\n",
       "      <td>0.075046</td>\n",
       "    </tr>\n",
       "  </tbody>\n",
       "</table>\n",
       "</div>"
      ],
      "text/plain": [
       "       flights  can_rate\n",
       "Month                   \n",
       "1       207605  0.069204\n",
       "2       195645  0.082062\n",
       "3       207057  0.059414\n",
       "4       193738  0.038872\n",
       "5       197939  0.027731\n",
       "6       199699  0.049124\n",
       "7       205536  0.045092\n",
       "8       201651  0.040997\n",
       "9       174747  0.034719\n",
       "10      176549  0.016636\n",
       "11      171588  0.023440\n",
       "12      187858  0.075046"
      ]
     },
     "execution_count": 69,
     "metadata": {},
     "output_type": "execute_result"
    }
   ],
   "source": [
    "frames = [g, prop_m]\n",
    "df42 = pd.concat(frames, axis=1)\n",
    "df42['flights']= df42[0]\n",
    "df42['can_rate']= df42[1]\n",
    "#df42.drop('month')\n",
    "df42.pop (0)\n",
    "df42.pop (1)\n",
    "df42"
   ]
  },
  {
   "cell_type": "code",
   "execution_count": 83,
   "metadata": {
    "collapsed": false
   },
   "outputs": [
    {
     "data": {
      "text/plain": [
       "flights     195645.000000\n",
       "can_rate         0.082062\n",
       "Name: 2, dtype: float64"
      ]
     },
     "execution_count": 83,
     "metadata": {},
     "output_type": "execute_result"
    }
   ],
   "source": [
    "df42.iloc[1]"
   ]
  },
  {
   "cell_type": "code",
   "execution_count": 59,
   "metadata": {
    "collapsed": false
   },
   "outputs": [
    {
     "data": {
      "image/png": "[encoded data removed]",
      "text/plain": [
       "<matplotlib.figure.Figure at 0x1258e9d0>"
      ]
     },
     "metadata": {},
     "output_type": "display_data"
    }
   ],
   "source": [
    "df42.plot(subplots=True, figsize=(20,5))\n",
    "plt.ylabel('No of flights per Month ')\n",
    "plt.xlabel('Month')\n",
    "plt.title('No of flights per Month')\n",
    "plt.show()"
   ]
  },
  {
   "cell_type": "code",
   "execution_count": 100,
   "metadata": {
    "collapsed": false
   },
   "outputs": [
    {
     "data": {
      "text/plain": [
       "airport\n",
       "William B Hartsfield-Atlanta Intl    114718\n",
       "Chicago O'Hare International         112165\n",
       "Denver Intl                           79867\n",
       "Dallas-Fort Worth International       62758\n",
       "Detroit Metropolitan-Wayne County     58419\n",
       "Phoenix Sky Harbor International      57092\n",
       "George Bush Intercontinental          54906\n",
       "Los Angeles International             52796\n",
       "Salt Lake City Intl                   51591\n",
       "McCarran International                50023\n",
       "dtype: int64"
      ]
     },
     "execution_count": 100,
     "metadata": {},
     "output_type": "execute_result"
    }
   ],
   "source": [
    "#airport view - Top 10 Airports  \n",
    "dest = df.groupby(by=['airport'])\n",
    "d =dest.size()\n",
    "d.sort_values (ascending = False)[:10]\n"
   ]
  },
  {
   "cell_type": "code",
   "execution_count": null,
   "metadata": {
    "collapsed": true
   },
   "outputs": [],
   "source": []
  }
 ],
 "metadata": {
  "kernelspec": {
   "display_name": "Python 3",
   "language": "python",
   "name": "python3"
  },
  "language_info": {
   "codemirror_mode": {
    "name": "ipython",
    "version": 3
   },
   "file_extension": ".py",
   "mimetype": "text/x-python",
   "name": "python",
   "nbconvert_exporter": "python",
   "pygments_lexer": "ipython3",
   "version": "3.6.0"
  }
 },
 "nbformat": 4,
 "nbformat_minor": 2
}
